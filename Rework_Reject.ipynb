{
  "nbformat": 4,
  "nbformat_minor": 0,
  "metadata": {
    "colab": {
      "provenance": []
    },
    "kernelspec": {
      "name": "python3",
      "display_name": "Python 3"
    },
    "language_info": {
      "name": "python"
    }
  },
  "cells": [
    {
      "cell_type": "markdown",
      "source": [
        "# New section"
      ],
      "metadata": {
        "id": "kShmAaSYnugL"
      }
    },
    {
      "cell_type": "code",
      "execution_count": null,
      "metadata": {
        "id": "i3CFtS1jmh5w"
      },
      "outputs": [],
      "source": [
        "import gspread as gs\n",
        "import pandas as pd\n",
        "import requests\n",
        "import pygsheets\n",
        "\n",
        "gc = gs.service_account(filename='practical-proxy-352909-f19395748066.json')\n",
        "sh = gc.open_by_url('https://docs.google.com/spreadsheets/d/1FnPX97jz6pKUCYErnsFA0oMvqW933iOlPR5wYQkCCeY/edit?usp=sharing')\n",
        "ws = sh.worksheet('DM_CLKID')\n",
        "df1 = pd.DataFrame(ws.get_all_records())\n",
        "js = df1.to_json(orient = 'records')\n",
        "#s2 = df.values.tolist()\n",
        "\n",
        "gc = gs.service_account(filename='practical-proxy-352909-f19395748066.json')\n",
        "sh = gc.open_by_url('https://docs.google.com/spreadsheets/d/1FnPX97jz6pKUCYErnsFA0oMvqW933iOlPR5wYQkCCeY/edit?usp=sharing')\n",
        "ws = sh.worksheet('Sheet2')\n",
        "df = pd.DataFrame(ws.get_all_records())\n",
        "js = df.to_json(orient = 'records')\n",
        "s2 = df.values.tolist()\n",
        "\n",
        "headers = {\n",
        "  'Authorization': 'pk_55364898_5TRQ58YI7OII7R1ZJTNW86GN739EZ4W1',\n",
        "  'Content-Type': 'application/json'\n",
        "}\n",
        "client = pygsheets.authorize(service_account_file=\"practical-proxy-352909-f19395748066.json\")\n",
        "sh = client.open('Task Rework Reject')\n",
        "wks = sh[1]\n",
        "data=[]\n",
        "q=0\n",
        "for i in df1[\"ID\"]:\n",
        "  u=df1[\"name\"][q]\n",
        "  m=df1[\"Wing\"][q]\n",
        "  if i != '7727581' :\n",
        "    url = 'https://api.clickup.com/api/v2/list/{}/task'.format(i)\n",
        "    response_body = requests.get(url, headers=headers)\n",
        "    tasks = response_body.json()\n",
        "    for k in tasks['tasks']:\n",
        "     if m==\"Analytics\" or m==\"SEM\":\n",
        "       if k['status']['status'] == \"modification required\":\n",
        "          if k[\"id\"] not in df['Task Id'].values:\n",
        "             data.append(k['id'])\n",
        "             data.append(k['name'])\n",
        "             data.append((k['status']['status']))\n",
        "             data.append(k['url'])\n",
        "             data.append(u)\n",
        "             print(data)\n",
        "             wks.append_table(data)\n",
        "             data=[]\n",
        "  q=q+1"
      ]
    }
  ]
}
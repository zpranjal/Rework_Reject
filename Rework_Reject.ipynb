{
  "nbformat": 4,
  "nbformat_minor": 0,
  "metadata": {
    "colab": {
      "name": "Rework_Reject.ipynb",
      "provenance": []
    },
    "kernelspec": {
      "name": "python3",
      "display_name": "Python 3"
    },
    "language_info": {
      "name": "python"
    }
  },
  "cells": [
    {
      "cell_type": "markdown",
      "source": [
        "# New section"
      ],
      "metadata": {
        "id": "kShmAaSYnugL"
      }
    },
    {
      "cell_type": "code",
      "execution_count": 4,
      "metadata": {
        "colab": {
          "base_uri": "https://localhost:8080/",
          "height": 235
        },
        "id": "i3CFtS1jmh5w",
        "outputId": "4f3f7970-c532-4f00-af3e-156a4eb6bdfd"
      },
      "outputs": [
        {
          "output_type": "error",
          "ename": "AttributeError",
          "evalue": "ignored",
          "traceback": [
            "\u001b[0;31m---------------------------------------------------------------------------\u001b[0m",
            "\u001b[0;31mAttributeError\u001b[0m                            Traceback (most recent call last)",
            "\u001b[0;32m<ipython-input-4-ffbfcfb91810>\u001b[0m in \u001b[0;36m<module>\u001b[0;34m\u001b[0m\n\u001b[1;32m      4\u001b[0m \u001b[0;32mimport\u001b[0m \u001b[0mpygsheets\u001b[0m\u001b[0;34m\u001b[0m\u001b[0;34m\u001b[0m\u001b[0m\n\u001b[1;32m      5\u001b[0m \u001b[0;34m\u001b[0m\u001b[0m\n\u001b[0;32m----> 6\u001b[0;31m \u001b[0mgc\u001b[0m \u001b[0;34m=\u001b[0m \u001b[0mgs\u001b[0m\u001b[0;34m.\u001b[0m\u001b[0mservice_account\u001b[0m\u001b[0;34m(\u001b[0m\u001b[0mfilename\u001b[0m\u001b[0;34m=\u001b[0m\u001b[0;34m'/home/cedcoss/Downloads/practical-proxy-352909-f19395748066.json'\u001b[0m\u001b[0;34m)\u001b[0m\u001b[0;34m\u001b[0m\u001b[0;34m\u001b[0m\u001b[0m\n\u001b[0m\u001b[1;32m      7\u001b[0m \u001b[0msh\u001b[0m \u001b[0;34m=\u001b[0m \u001b[0mgc\u001b[0m\u001b[0;34m.\u001b[0m\u001b[0mopen_by_url\u001b[0m\u001b[0;34m(\u001b[0m\u001b[0;34m'https://docs.google.com/spreadsheets/d/1FnPX97jz6pKUCYErnsFA0oMvqW933iOlPR5wYQkCCeY/edit?usp=sharing'\u001b[0m\u001b[0;34m)\u001b[0m\u001b[0;34m\u001b[0m\u001b[0;34m\u001b[0m\u001b[0m\n\u001b[1;32m      8\u001b[0m \u001b[0mws\u001b[0m \u001b[0;34m=\u001b[0m \u001b[0msh\u001b[0m\u001b[0;34m.\u001b[0m\u001b[0mworksheet\u001b[0m\u001b[0;34m(\u001b[0m\u001b[0;34m'DM_CLKID'\u001b[0m\u001b[0;34m)\u001b[0m\u001b[0;34m\u001b[0m\u001b[0;34m\u001b[0m\u001b[0m\n",
            "\u001b[0;31mAttributeError\u001b[0m: module 'gspread' has no attribute 'service_account'"
          ]
        }
      ],
      "source": [
        "import gspread as gs\n",
        "import pandas as pd\n",
        "import requests\n",
        "import pygsheets\n",
        "\n",
        "gc = gs.service_account(filename='practical-proxy-352909-f19395748066.json')\n",
        "sh = gc.open_by_url('https://docs.google.com/spreadsheets/d/1FnPX97jz6pKUCYErnsFA0oMvqW933iOlPR5wYQkCCeY/edit?usp=sharing')\n",
        "ws = sh.worksheet('DM_CLKID')\n",
        "df1 = pd.DataFrame(ws.get_all_records())\n",
        "js = df1.to_json(orient = 'records')\n",
        "#s2 = df.values.tolist()\n",
        "\n",
        "gc = gs.service_account(filename='practical-proxy-352909-f19395748066.json')\n",
        "sh = gc.open_by_url('https://docs.google.com/spreadsheets/d/1FnPX97jz6pKUCYErnsFA0oMvqW933iOlPR5wYQkCCeY/edit?usp=sharing')\n",
        "ws = sh.worksheet('Sheet2')\n",
        "df = pd.DataFrame(ws.get_all_records())\n",
        "js = df.to_json(orient = 'records')\n",
        "s2 = df.values.tolist()\n",
        "\n",
        "headers = {\n",
        "  'Authorization': 'pk_55364898_5TRQ58YI7OII7R1ZJTNW86GN739EZ4W1',\n",
        "  'Content-Type': 'application/json'\n",
        "}\n",
        "client = pygsheets.authorize(service_account_file=\"/home/cedcoss/Downloads/practical-proxy-352909-f19395748066.json\")\n",
        "sh = client.open('Task Rework Reject')\n",
        "wks = sh[1]\n",
        "data=[]\n",
        "q=0\n",
        "for i in df1[\"ID\"]:\n",
        "  print(i)\n",
        "  print(df1[\"Wing\"][q])\n",
        "  m=df1[\"Wing\"][q]\n",
        "  if i != '7727581' :\n",
        "    url = 'https://api.clickup.com/api/v2/list/20580691/task'\n",
        "    response_body = requests.get(url, headers=headers)\n",
        "    tasks = response_body.json()\n",
        "#print(tasks['tasks'])\n",
        "    for k in tasks['tasks']:\n",
        "     if m==\"Analytics\":\n",
        "       if k['status']['status'] == \"review request\":\n",
        "          if k[\"id\"] not in df['Task Id'].values:\n",
        "             data.append(k['id'])\n",
        "             data.append(k['name'])\n",
        "             data.append((k['status']['status']))\n",
        "             data.append(k['url'])\n",
        "             print(data)\n",
        "             wks.append_table(data)\n",
        "             data=[]\n",
        "  q=q+1"
      ]
    }
  ]
}